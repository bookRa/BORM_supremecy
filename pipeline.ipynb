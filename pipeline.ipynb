{
 "cells": [
  {
   "cell_type": "markdown",
   "metadata": {},
   "source": [
    "## 1. Setup Environment (Python 3.11^)"
   ]
  },
  {
   "cell_type": "code",
   "execution_count": 8,
   "metadata": {},
   "outputs": [
    {
     "name": "stdout",
     "output_type": "stream",
     "text": [
      "Requirement already satisfied: openai in /Users/bigo/.pyenv/versions/3.11.3/envs/borm/lib/python3.11/site-packages (1.54.4)\n",
      "Requirement already satisfied: pdfplumber in /Users/bigo/.pyenv/versions/3.11.3/envs/borm/lib/python3.11/site-packages (0.11.4)\n",
      "Requirement already satisfied: pandas in /Users/bigo/.pyenv/versions/3.11.3/envs/borm/lib/python3.11/site-packages (2.2.3)\n",
      "Collecting python-dotenv\n",
      "  Using cached python_dotenv-1.0.1-py3-none-any.whl (19 kB)\n",
      "Requirement already satisfied: anyio<5,>=3.5.0 in /Users/bigo/.pyenv/versions/3.11.3/envs/borm/lib/python3.11/site-packages (from openai) (4.6.2.post1)\n",
      "Requirement already satisfied: distro<2,>=1.7.0 in /Users/bigo/.pyenv/versions/3.11.3/envs/borm/lib/python3.11/site-packages (from openai) (1.9.0)\n",
      "Requirement already satisfied: httpx<1,>=0.23.0 in /Users/bigo/.pyenv/versions/3.11.3/envs/borm/lib/python3.11/site-packages (from openai) (0.27.2)\n",
      "Requirement already satisfied: jiter<1,>=0.4.0 in /Users/bigo/.pyenv/versions/3.11.3/envs/borm/lib/python3.11/site-packages (from openai) (0.7.1)\n",
      "Requirement already satisfied: pydantic<3,>=1.9.0 in /Users/bigo/.pyenv/versions/3.11.3/envs/borm/lib/python3.11/site-packages (from openai) (2.9.2)\n",
      "Requirement already satisfied: sniffio in /Users/bigo/.pyenv/versions/3.11.3/envs/borm/lib/python3.11/site-packages (from openai) (1.3.1)\n",
      "Requirement already satisfied: tqdm>4 in /Users/bigo/.pyenv/versions/3.11.3/envs/borm/lib/python3.11/site-packages (from openai) (4.67.0)\n",
      "Requirement already satisfied: typing-extensions<5,>=4.11 in /Users/bigo/.pyenv/versions/3.11.3/envs/borm/lib/python3.11/site-packages (from openai) (4.12.2)\n",
      "Requirement already satisfied: pdfminer.six==20231228 in /Users/bigo/.pyenv/versions/3.11.3/envs/borm/lib/python3.11/site-packages (from pdfplumber) (20231228)\n",
      "Requirement already satisfied: Pillow>=9.1 in /Users/bigo/.pyenv/versions/3.11.3/envs/borm/lib/python3.11/site-packages (from pdfplumber) (11.0.0)\n",
      "Requirement already satisfied: pypdfium2>=4.18.0 in /Users/bigo/.pyenv/versions/3.11.3/envs/borm/lib/python3.11/site-packages (from pdfplumber) (4.30.0)\n",
      "Requirement already satisfied: charset-normalizer>=2.0.0 in /Users/bigo/.pyenv/versions/3.11.3/envs/borm/lib/python3.11/site-packages (from pdfminer.six==20231228->pdfplumber) (3.4.0)\n",
      "Requirement already satisfied: cryptography>=36.0.0 in /Users/bigo/.pyenv/versions/3.11.3/envs/borm/lib/python3.11/site-packages (from pdfminer.six==20231228->pdfplumber) (43.0.3)\n",
      "Requirement already satisfied: numpy>=1.23.2 in /Users/bigo/.pyenv/versions/3.11.3/envs/borm/lib/python3.11/site-packages (from pandas) (2.1.3)\n",
      "Requirement already satisfied: python-dateutil>=2.8.2 in /Users/bigo/.pyenv/versions/3.11.3/envs/borm/lib/python3.11/site-packages (from pandas) (2.9.0.post0)\n",
      "Requirement already satisfied: pytz>=2020.1 in /Users/bigo/.pyenv/versions/3.11.3/envs/borm/lib/python3.11/site-packages (from pandas) (2024.2)\n",
      "Requirement already satisfied: tzdata>=2022.7 in /Users/bigo/.pyenv/versions/3.11.3/envs/borm/lib/python3.11/site-packages (from pandas) (2024.2)\n",
      "Requirement already satisfied: idna>=2.8 in /Users/bigo/.pyenv/versions/3.11.3/envs/borm/lib/python3.11/site-packages (from anyio<5,>=3.5.0->openai) (3.10)\n",
      "Requirement already satisfied: certifi in /Users/bigo/.pyenv/versions/3.11.3/envs/borm/lib/python3.11/site-packages (from httpx<1,>=0.23.0->openai) (2024.8.30)\n",
      "Requirement already satisfied: httpcore==1.* in /Users/bigo/.pyenv/versions/3.11.3/envs/borm/lib/python3.11/site-packages (from httpx<1,>=0.23.0->openai) (1.0.7)\n",
      "Requirement already satisfied: h11<0.15,>=0.13 in /Users/bigo/.pyenv/versions/3.11.3/envs/borm/lib/python3.11/site-packages (from httpcore==1.*->httpx<1,>=0.23.0->openai) (0.14.0)\n",
      "Requirement already satisfied: annotated-types>=0.6.0 in /Users/bigo/.pyenv/versions/3.11.3/envs/borm/lib/python3.11/site-packages (from pydantic<3,>=1.9.0->openai) (0.7.0)\n",
      "Requirement already satisfied: pydantic-core==2.23.4 in /Users/bigo/.pyenv/versions/3.11.3/envs/borm/lib/python3.11/site-packages (from pydantic<3,>=1.9.0->openai) (2.23.4)\n",
      "Requirement already satisfied: six>=1.5 in /Users/bigo/.pyenv/versions/3.11.3/envs/borm/lib/python3.11/site-packages (from python-dateutil>=2.8.2->pandas) (1.16.0)\n",
      "Requirement already satisfied: cffi>=1.12 in /Users/bigo/.pyenv/versions/3.11.3/envs/borm/lib/python3.11/site-packages (from cryptography>=36.0.0->pdfminer.six==20231228->pdfplumber) (1.17.1)\n",
      "Requirement already satisfied: pycparser in /Users/bigo/.pyenv/versions/3.11.3/envs/borm/lib/python3.11/site-packages (from cffi>=1.12->cryptography>=36.0.0->pdfminer.six==20231228->pdfplumber) (2.22)\n",
      "Installing collected packages: python-dotenv\n",
      "Successfully installed python-dotenv-1.0.1\n",
      "\n",
      "\u001b[1m[\u001b[0m\u001b[34;49mnotice\u001b[0m\u001b[1;39;49m]\u001b[0m\u001b[39;49m A new release of pip available: \u001b[0m\u001b[31;49m22.3.1\u001b[0m\u001b[39;49m -> \u001b[0m\u001b[32;49m24.3.1\u001b[0m\n",
      "\u001b[1m[\u001b[0m\u001b[34;49mnotice\u001b[0m\u001b[1;39;49m]\u001b[0m\u001b[39;49m To update, run: \u001b[0m\u001b[32;49mpip install --upgrade pip\u001b[0m\n"
     ]
    }
   ],
   "source": [
    "!pip install openai pdfplumber pandas python-dotenv"
   ]
  },
  {
   "cell_type": "code",
   "execution_count": 18,
   "metadata": {},
   "outputs": [],
   "source": [
    "# Import libraries\n",
    "import pdfplumber\n",
    "from openai import OpenAI\n",
    "import re\n",
    "import pandas as pd\n",
    "from dotenv import load_dotenv\n",
    "import os"
   ]
  },
  {
   "cell_type": "markdown",
   "metadata": {},
   "source": [
    "## Load PDF and extract text"
   ]
  },
  {
   "cell_type": "code",
   "execution_count": 10,
   "metadata": {},
   "outputs": [],
   "source": [
    "# Step 1: Extract text from PDF\n",
    "def extract_text_from_pdf(pdf_path):\n",
    "    with pdfplumber.open(pdf_path) as pdf:\n",
    "        text = \"\"\n",
    "        for page in pdf.pages:\n",
    "            text += page.extract_text()\n",
    "    return text\n",
    "\n",
    "# Extract text from \"The Lottery\"\n",
    "pdf_path = \"Lottery.pdf\"\n",
    "raw_text = extract_text_from_pdf(pdf_path)\n",
    "\n",
    "# Step 2: Preprocess text\n",
    "def preprocess_text(text):\n",
    "    # Remove extra spaces, headers, and line breaks\n",
    "    clean_text = re.sub(r\"\\s+\", \" \", text)\n",
    "    return clean_text\n",
    "\n",
    "clean_text = preprocess_text(raw_text)\n",
    "\n",
    "# print(clean_text)"
   ]
  },
  {
   "cell_type": "markdown",
   "metadata": {},
   "source": [
    "## Get Extract Information with OpenAI API"
   ]
  },
  {
   "cell_type": "code",
   "execution_count": 19,
   "metadata": {},
   "outputs": [],
   "source": [
    "load_dotenv()\n",
    "api_key = os.getenv(\"OPENAI_API_KEY\")\n",
    "client = OpenAI(\n",
    "    api_key=api_key\n",
    ")"
   ]
  },
  {
   "cell_type": "code",
   "execution_count": 20,
   "metadata": {},
   "outputs": [],
   "source": [
    "# Step 3: Analyze content with OpenAI\n",
    "def query_openai(prompt):\n",
    "    \"\"\"Send a prompt to OpenAI and return the response.\"\"\"\n",
    "    response = client.chat.completions.create(\n",
    "        messages=[\n",
    "            {\n",
    "                \"role\": \"user\",\n",
    "                \"content\": prompt,\n",
    "            }\n",
    "        ],\n",
    "        model=\"gpt-4o\",  # Replace with the model available to you\n",
    "    )\n",
    "    return response.choices[0].message.content\n",
    "\n",
    "# Define helper functions for specific tasks\n",
    "def get_characters(text):\n",
    "    prompt = f\"List all characters in the following story with descriptions: {text[:1500]}\"\n",
    "    return query_openai(prompt)\n"
   ]
  },
  {
   "cell_type": "code",
   "execution_count": 23,
   "metadata": {},
   "outputs": [],
   "source": [
    "characters = get_characters(clean_text)"
   ]
  },
  {
   "cell_type": "code",
   "execution_count": 22,
   "metadata": {},
   "outputs": [],
   "source": [
    "def get_settings(text):\n",
    "    prompt = f\"Describe the settings in this story: {text[:1500]}\"\n",
    "    return query_openai(prompt)\n",
    "settings = get_settings(clean_text)\n",
    "\n",
    "def generate_script(text):\n",
    "    prompt = f\"Convert this excerpt into a script format with dialogues and stage directions: {text[:1500]}\"\n",
    "    return query_openai(prompt)\n",
    "script = generate_script(clean_text)"
   ]
  },
  {
   "cell_type": "markdown",
   "metadata": {},
   "source": [
    "'Based on the provided excerpt from \"The Lottery\" by Shirley Jackson, here are the characters mentioned along with brief descriptions derived from the text:   1. **Bobby Martin**: A young boy who dodges his mother\\'s grasp and runs back to a pile of stones. He is later called back by his father and takes his place between him and his oldest brother.2. **Bobby Martin\\'s Father**: He speaks up sharply to call Bobby back when he runs off. He stands with his sons, indicating his presence is one of authority and order.3. **Bobby Martin\\'s Oldest Brother**: Mentioned as standing next to Bobby and their father. He is part of the family unit attending the lottery.4. **Mr. Summers**: Described as a round-faced, jovial man. He has considerable time and energy to devote to civic activities and runs the coal business. People feel sorry for him because he has no children and his wife is described as a scold. He is responsible for conducting the lottery and other village events.This excerpt doesn\\'t provide exhaustive character details, as the focus is mainly on the gathering event of the lottery and a glimpse into the atmosphere and a few villagers\\' interactions. For a complete list of characters and more detailed descriptions, refer to the entire short story.'"
   ]
  },
  {
   "cell_type": "code",
   "execution_count": 24,
   "metadata": {},
   "outputs": [
    {
     "name": "stdout",
     "output_type": "stream",
     "text": [
      "Characters:\n",
      " Given that \"The Lottery\" by Shirley Jackson is a short story, I'll describe some of the key characters based on what you've provided and additional context:\n",
      "\n",
      "1. **Mr. Summers**: He is responsible for conducting the lottery. Described as a round-faced, jovial man, Mr. Summers is dedicated to civic activities and also runs a coal business. Despite his cheerful demeanor, townspeople pity him due to his childless marriage and his wife, described as a scold.\n",
      "\n",
      "2. **Bobby Martin**: A young boy who, like other children, is reluctant to participate in the organized gathering. He is playful and mischievous, initially ducking away from his mother’s grasp to run and play near the pile of stones.\n",
      "\n",
      "3. **Mr. Martin**: Bobby Martin's father. He is seen as authoritative, as he speaks sharply to Bobby, ensuring his son takes his place between him and Bobby’s older brother.\n",
      "\n",
      "4. **Mrs. Martin**: Bobby's mother, who tries to keep her son in line, indicating a typical family dynamic of discipline and care.\n",
      "\n",
      "5. **Mrs. Hutchinson (Tessie Hutchinson)**: Although not mentioned in the provided excerpt, Tessie is another central character who arrives later in the story. She is notable for being the one who protests the fairness of the lottery as the story unfolds.\n",
      "\n",
      "This list is not exhaustive, as there are other townspeople who play roles in the unfolding of the story. These characters, among others, contribute to the narrative's exploration of tradition and conformity.\n",
      "\n",
      "Settings:\n",
      " The setting of Shirley Jackson's \"The Lottery\" is a small, rural village with a close-knit community. It is June 27th, and the morning is clear, sunny, and warm—a perfect summer day. Flowers are in full bloom, and the grass is lush and green, reflecting the idyllic nature of the environment.\n",
      "\n",
      "The villagers begin to congregate in the village square, which is located between the post office and the bank. This indicates that the village is small enough that all community activities, including events like the lottery, occur in a centralized, familiar spot. The village's population is about three hundred, and it is small enough that the lottery can be conducted in less than two hours, allowing people to return home in time for lunch.\n",
      "\n",
      "Socially, the setting is one of familiarity and routine. The event is organized by Mr. Summers, a jovial man who is deeply involved in the community, conducting various civic activities. The community seems traditional, with defined gender roles, as women join their husbands, and children are reluctantly called in by their parents.\n",
      "\n",
      "In summary, the setting juxtaposes a serene, picturesque environment with the dark, unsettling tradition of the lottery, highlighting the contrast between surface normalcy and underlying violence.\n",
      "\n",
      "Script:\n",
      " ```plaintext\n",
      "Title: The Lottery\n",
      "\n",
      "Scene: A village square, between the post office and the bank. It's the morning of June 27th. The day is clear and sunny, with the fresh warmth of a full-summer day. Flowers are blossoming, and the grass is richly green. Villagers are beginning to gather.\n",
      "\n",
      "[The stage is set to resemble a small village square. A few men are already present, talking amongst themselves.]\n",
      "\n",
      "[Enter WOMEN, greeting each other and their husbands, exchanging bits of gossip.]\n",
      "\n",
      "WOMAN 1\n",
      "[to her husband]\n",
      "Did you hear about the Simmons' new cow? \n",
      "\n",
      "MAN 1\n",
      "[chuckles]\n",
      "Yes, and they say it's already broken the fence twice.\n",
      "\n",
      "[More villagers join, and WOMEN begin to call their children.]\n",
      "\n",
      "WOMAN 2\n",
      "[calling]\n",
      "Tommy! Come over here.\n",
      "\n",
      "[CHILDREN, playing nearby, are reluctant to join their parents. They need to be called four or five times before they slowly make their way over.]\n",
      "\n",
      "[BOBBY MARTIN ducks under his mother's grasping hand, runs back to a pile of stones, laughing. His FATHER steps forward.]\n",
      "\n",
      "FATHER\n",
      "[sharply]\n",
      "Bobby! Get over here now.\n",
      "\n",
      "[BOBBY MARTIN quickly returns, taking his place between his father and older brother.]\n",
      "\n",
      "[MR. SUMMERS, a round-faced, jovial man, enters the square carrying a black wooden box. He is well-known for conducting village events.]\n",
      "\n",
      "[The villagers' chatter quiets down as MR. SUMMERS takes his position.]\n",
      "\n",
      "MR. SUMMERS\n",
      "[smiling]\n",
      "Morning, everyone! Let's begin, shall we? We wouldn't want to be late for noon dinner.\n",
      "\n",
      "[The villagers murmur in agreement, forming a loose circle around MR. SUMMERS.]\n",
      "\n",
      "[The scene captures a mix of anticipation and unease as they prepare for the lottery.]\n",
      "\n",
      "[MR. SUMMERS places the black box on a stool, marking the start of the lottery.]\n",
      "\n",
      "[The stage lights dim slightly to focus on the BLACK BOX, highlighting the significance of the event.]\n",
      "\n",
      "[END OF SCENE]\n",
      "```\n"
     ]
    }
   ],
   "source": [
    "# Step 5: Output Results\n",
    "print(\"Characters:\\n\", characters)\n",
    "print(\"\\nSettings:\\n\", settings)\n",
    "print(\"\\nScript:\\n\", script)"
   ]
  },
  {
   "cell_type": "code",
   "execution_count": 25,
   "metadata": {},
   "outputs": [
    {
     "name": "stdout",
     "output_type": "stream",
     "text": [
      "Results saved to 'extracted_story_details.csv'.\n"
     ]
    }
   ],
   "source": [
    "# Optional: Save outputs to a text file or dataframe\n",
    "results = {\n",
    "    \"Characters\": characters,\n",
    "    \"Settings\": settings,\n",
    "    \"Script\": script\n",
    "}\n",
    "\n",
    "df = pd.DataFrame.from_dict(results, orient='index', columns=[\"Details\"])\n",
    "df.to_csv(\"extracted_story_details.csv\", index=False)\n",
    "\n",
    "print(\"Results saved to 'extracted_story_details.csv'.\")"
   ]
  },
  {
   "cell_type": "markdown",
   "metadata": {},
   "source": []
  }
 ],
 "metadata": {
  "kernelspec": {
   "display_name": "borm",
   "language": "python",
   "name": "python3"
  },
  "language_info": {
   "codemirror_mode": {
    "name": "ipython",
    "version": 3
   },
   "file_extension": ".py",
   "mimetype": "text/x-python",
   "name": "python",
   "nbconvert_exporter": "python",
   "pygments_lexer": "ipython3",
   "version": "3.11.3"
  }
 },
 "nbformat": 4,
 "nbformat_minor": 2
}
